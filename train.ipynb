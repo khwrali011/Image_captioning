{
  "metadata": {
    "kernelspec": {
      "display_name": "Python 3",
      "name": "python3"
    },
    "language_info": {
      "name": "python",
      "version": "3.7.12",
      "mimetype": "text/x-python",
      "codemirror_mode": {
        "name": "ipython",
        "version": 3
      },
      "pygments_lexer": "ipython3",
      "nbconvert_exporter": "python",
      "file_extension": ".py"
    },
    "colab": {
      "provenance": [],
      "gpuType": "T4"
    },
    "widgets": {
      "application/vnd.jupyter.widget-state+json": {
        "6c2fa39246af4b178c3172aa9758f233": {
          "model_module": "@jupyter-widgets/controls",
          "model_name": "HBoxModel",
          "model_module_version": "1.5.0",
          "state": {
            "_dom_classes": [],
            "_model_module": "@jupyter-widgets/controls",
            "_model_module_version": "1.5.0",
            "_model_name": "HBoxModel",
            "_view_count": null,
            "_view_module": "@jupyter-widgets/controls",
            "_view_module_version": "1.5.0",
            "_view_name": "HBoxView",
            "box_style": "",
            "children": [
              "IPY_MODEL_a68f3a8e371849c38fdb4e28f0685a8f",
              "IPY_MODEL_ae28ad88b1dc4e24a82b51f3cc9f6103",
              "IPY_MODEL_e30a251e75c94523bfd99c7e7f8902b5"
            ],
            "layout": "IPY_MODEL_874d5dd5f81741a8b0ff03a88d863dc4"
          }
        },
        "a68f3a8e371849c38fdb4e28f0685a8f": {
          "model_module": "@jupyter-widgets/controls",
          "model_name": "HTMLModel",
          "model_module_version": "1.5.0",
          "state": {
            "_dom_classes": [],
            "_model_module": "@jupyter-widgets/controls",
            "_model_module_version": "1.5.0",
            "_model_name": "HTMLModel",
            "_view_count": null,
            "_view_module": "@jupyter-widgets/controls",
            "_view_module_version": "1.5.0",
            "_view_name": "HTMLView",
            "description": "",
            "description_tooltip": null,
            "layout": "IPY_MODEL_4932325ae86c445384a94f3a3df1bccd",
            "placeholder": "​",
            "style": "IPY_MODEL_239d30c1ee8147e2a5b61174e5fcc322",
            "value": "100%"
          }
        },
        "ae28ad88b1dc4e24a82b51f3cc9f6103": {
          "model_module": "@jupyter-widgets/controls",
          "model_name": "FloatProgressModel",
          "model_module_version": "1.5.0",
          "state": {
            "_dom_classes": [],
            "_model_module": "@jupyter-widgets/controls",
            "_model_module_version": "1.5.0",
            "_model_name": "FloatProgressModel",
            "_view_count": null,
            "_view_module": "@jupyter-widgets/controls",
            "_view_module_version": "1.5.0",
            "_view_name": "ProgressView",
            "bar_style": "success",
            "description": "",
            "description_tooltip": null,
            "layout": "IPY_MODEL_773ed540e1a54c1ca23580d515bc3fe5",
            "max": 10000,
            "min": 0,
            "orientation": "horizontal",
            "style": "IPY_MODEL_0f75a37f0dc643a789f578367299802c",
            "value": 10000
          }
        },
        "e30a251e75c94523bfd99c7e7f8902b5": {
          "model_module": "@jupyter-widgets/controls",
          "model_name": "HTMLModel",
          "model_module_version": "1.5.0",
          "state": {
            "_dom_classes": [],
            "_model_module": "@jupyter-widgets/controls",
            "_model_module_version": "1.5.0",
            "_model_name": "HTMLModel",
            "_view_count": null,
            "_view_module": "@jupyter-widgets/controls",
            "_view_module_version": "1.5.0",
            "_view_name": "HTMLView",
            "description": "",
            "description_tooltip": null,
            "layout": "IPY_MODEL_376c97178123465ea85e731074be0b48",
            "placeholder": "​",
            "style": "IPY_MODEL_30a08f168f734918a1640037ddd2f5ba",
            "value": " 10000/10000 [12:41&lt;00:00, 14.47it/s]"
          }
        },
        "874d5dd5f81741a8b0ff03a88d863dc4": {
          "model_module": "@jupyter-widgets/base",
          "model_name": "LayoutModel",
          "model_module_version": "1.2.0",
          "state": {
            "_model_module": "@jupyter-widgets/base",
            "_model_module_version": "1.2.0",
            "_model_name": "LayoutModel",
            "_view_count": null,
            "_view_module": "@jupyter-widgets/base",
            "_view_module_version": "1.2.0",
            "_view_name": "LayoutView",
            "align_content": null,
            "align_items": null,
            "align_self": null,
            "border": null,
            "bottom": null,
            "display": null,
            "flex": null,
            "flex_flow": null,
            "grid_area": null,
            "grid_auto_columns": null,
            "grid_auto_flow": null,
            "grid_auto_rows": null,
            "grid_column": null,
            "grid_gap": null,
            "grid_row": null,
            "grid_template_areas": null,
            "grid_template_columns": null,
            "grid_template_rows": null,
            "height": null,
            "justify_content": null,
            "justify_items": null,
            "left": null,
            "margin": null,
            "max_height": null,
            "max_width": null,
            "min_height": null,
            "min_width": null,
            "object_fit": null,
            "object_position": null,
            "order": null,
            "overflow": null,
            "overflow_x": null,
            "overflow_y": null,
            "padding": null,
            "right": null,
            "top": null,
            "visibility": null,
            "width": null
          }
        },
        "4932325ae86c445384a94f3a3df1bccd": {
          "model_module": "@jupyter-widgets/base",
          "model_name": "LayoutModel",
          "model_module_version": "1.2.0",
          "state": {
            "_model_module": "@jupyter-widgets/base",
            "_model_module_version": "1.2.0",
            "_model_name": "LayoutModel",
            "_view_count": null,
            "_view_module": "@jupyter-widgets/base",
            "_view_module_version": "1.2.0",
            "_view_name": "LayoutView",
            "align_content": null,
            "align_items": null,
            "align_self": null,
            "border": null,
            "bottom": null,
            "display": null,
            "flex": null,
            "flex_flow": null,
            "grid_area": null,
            "grid_auto_columns": null,
            "grid_auto_flow": null,
            "grid_auto_rows": null,
            "grid_column": null,
            "grid_gap": null,
            "grid_row": null,
            "grid_template_areas": null,
            "grid_template_columns": null,
            "grid_template_rows": null,
            "height": null,
            "justify_content": null,
            "justify_items": null,
            "left": null,
            "margin": null,
            "max_height": null,
            "max_width": null,
            "min_height": null,
            "min_width": null,
            "object_fit": null,
            "object_position": null,
            "order": null,
            "overflow": null,
            "overflow_x": null,
            "overflow_y": null,
            "padding": null,
            "right": null,
            "top": null,
            "visibility": null,
            "width": null
          }
        },
        "239d30c1ee8147e2a5b61174e5fcc322": {
          "model_module": "@jupyter-widgets/controls",
          "model_name": "DescriptionStyleModel",
          "model_module_version": "1.5.0",
          "state": {
            "_model_module": "@jupyter-widgets/controls",
            "_model_module_version": "1.5.0",
            "_model_name": "DescriptionStyleModel",
            "_view_count": null,
            "_view_module": "@jupyter-widgets/base",
            "_view_module_version": "1.2.0",
            "_view_name": "StyleView",
            "description_width": ""
          }
        },
        "773ed540e1a54c1ca23580d515bc3fe5": {
          "model_module": "@jupyter-widgets/base",
          "model_name": "LayoutModel",
          "model_module_version": "1.2.0",
          "state": {
            "_model_module": "@jupyter-widgets/base",
            "_model_module_version": "1.2.0",
            "_model_name": "LayoutModel",
            "_view_count": null,
            "_view_module": "@jupyter-widgets/base",
            "_view_module_version": "1.2.0",
            "_view_name": "LayoutView",
            "align_content": null,
            "align_items": null,
            "align_self": null,
            "border": null,
            "bottom": null,
            "display": null,
            "flex": null,
            "flex_flow": null,
            "grid_area": null,
            "grid_auto_columns": null,
            "grid_auto_flow": null,
            "grid_auto_rows": null,
            "grid_column": null,
            "grid_gap": null,
            "grid_row": null,
            "grid_template_areas": null,
            "grid_template_columns": null,
            "grid_template_rows": null,
            "height": null,
            "justify_content": null,
            "justify_items": null,
            "left": null,
            "margin": null,
            "max_height": null,
            "max_width": null,
            "min_height": null,
            "min_width": null,
            "object_fit": null,
            "object_position": null,
            "order": null,
            "overflow": null,
            "overflow_x": null,
            "overflow_y": null,
            "padding": null,
            "right": null,
            "top": null,
            "visibility": null,
            "width": null
          }
        },
        "0f75a37f0dc643a789f578367299802c": {
          "model_module": "@jupyter-widgets/controls",
          "model_name": "ProgressStyleModel",
          "model_module_version": "1.5.0",
          "state": {
            "_model_module": "@jupyter-widgets/controls",
            "_model_module_version": "1.5.0",
            "_model_name": "ProgressStyleModel",
            "_view_count": null,
            "_view_module": "@jupyter-widgets/base",
            "_view_module_version": "1.2.0",
            "_view_name": "StyleView",
            "bar_color": null,
            "description_width": ""
          }
        },
        "376c97178123465ea85e731074be0b48": {
          "model_module": "@jupyter-widgets/base",
          "model_name": "LayoutModel",
          "model_module_version": "1.2.0",
          "state": {
            "_model_module": "@jupyter-widgets/base",
            "_model_module_version": "1.2.0",
            "_model_name": "LayoutModel",
            "_view_count": null,
            "_view_module": "@jupyter-widgets/base",
            "_view_module_version": "1.2.0",
            "_view_name": "LayoutView",
            "align_content": null,
            "align_items": null,
            "align_self": null,
            "border": null,
            "bottom": null,
            "display": null,
            "flex": null,
            "flex_flow": null,
            "grid_area": null,
            "grid_auto_columns": null,
            "grid_auto_flow": null,
            "grid_auto_rows": null,
            "grid_column": null,
            "grid_gap": null,
            "grid_row": null,
            "grid_template_areas": null,
            "grid_template_columns": null,
            "grid_template_rows": null,
            "height": null,
            "justify_content": null,
            "justify_items": null,
            "left": null,
            "margin": null,
            "max_height": null,
            "max_width": null,
            "min_height": null,
            "min_width": null,
            "object_fit": null,
            "object_position": null,
            "order": null,
            "overflow": null,
            "overflow_x": null,
            "overflow_y": null,
            "padding": null,
            "right": null,
            "top": null,
            "visibility": null,
            "width": null
          }
        },
        "30a08f168f734918a1640037ddd2f5ba": {
          "model_module": "@jupyter-widgets/controls",
          "model_name": "DescriptionStyleModel",
          "model_module_version": "1.5.0",
          "state": {
            "_model_module": "@jupyter-widgets/controls",
            "_model_module_version": "1.5.0",
            "_model_name": "DescriptionStyleModel",
            "_view_count": null,
            "_view_module": "@jupyter-widgets/base",
            "_view_module_version": "1.2.0",
            "_view_name": "StyleView",
            "description_width": ""
          }
        },
        "a975a43ea9344a30b96a57290b21f4b6": {
          "model_module": "@jupyter-widgets/controls",
          "model_name": "HBoxModel",
          "model_module_version": "1.5.0",
          "state": {
            "_dom_classes": [],
            "_model_module": "@jupyter-widgets/controls",
            "_model_module_version": "1.5.0",
            "_model_name": "HBoxModel",
            "_view_count": null,
            "_view_module": "@jupyter-widgets/controls",
            "_view_module_version": "1.5.0",
            "_view_name": "HBoxView",
            "box_style": "",
            "children": [
              "IPY_MODEL_247222d946fb4daab3a72c2935c602d2",
              "IPY_MODEL_37861fc5e8c0468ebeb986f554a8de7a",
              "IPY_MODEL_6bf308072ac24b5faee016e7f70e0109"
            ],
            "layout": "IPY_MODEL_0e205998f0c84463b21275388760c9c7"
          }
        },
        "247222d946fb4daab3a72c2935c602d2": {
          "model_module": "@jupyter-widgets/controls",
          "model_name": "HTMLModel",
          "model_module_version": "1.5.0",
          "state": {
            "_dom_classes": [],
            "_model_module": "@jupyter-widgets/controls",
            "_model_module_version": "1.5.0",
            "_model_name": "HTMLModel",
            "_view_count": null,
            "_view_module": "@jupyter-widgets/controls",
            "_view_module_version": "1.5.0",
            "_view_name": "HTMLView",
            "description": "",
            "description_tooltip": null,
            "layout": "IPY_MODEL_31375258c18947d7a8407550a8c8c97f",
            "placeholder": "​",
            "style": "IPY_MODEL_61c269376798489c94128ccd3b1ceee3",
            "value": "100%"
          }
        },
        "37861fc5e8c0468ebeb986f554a8de7a": {
          "model_module": "@jupyter-widgets/controls",
          "model_name": "FloatProgressModel",
          "model_module_version": "1.5.0",
          "state": {
            "_dom_classes": [],
            "_model_module": "@jupyter-widgets/controls",
            "_model_module_version": "1.5.0",
            "_model_name": "FloatProgressModel",
            "_view_count": null,
            "_view_module": "@jupyter-widgets/controls",
            "_view_module_version": "1.5.0",
            "_view_name": "ProgressView",
            "bar_style": "success",
            "description": "",
            "description_tooltip": null,
            "layout": "IPY_MODEL_f23a5fe2f28f42f29f32ed5f80ce5fab",
            "max": 10000,
            "min": 0,
            "orientation": "horizontal",
            "style": "IPY_MODEL_d64a801236164b49ac40f6f5cbbc1e29",
            "value": 10000
          }
        },
        "6bf308072ac24b5faee016e7f70e0109": {
          "model_module": "@jupyter-widgets/controls",
          "model_name": "HTMLModel",
          "model_module_version": "1.5.0",
          "state": {
            "_dom_classes": [],
            "_model_module": "@jupyter-widgets/controls",
            "_model_module_version": "1.5.0",
            "_model_name": "HTMLModel",
            "_view_count": null,
            "_view_module": "@jupyter-widgets/controls",
            "_view_module_version": "1.5.0",
            "_view_name": "HTMLView",
            "description": "",
            "description_tooltip": null,
            "layout": "IPY_MODEL_5fdcb596cc21499eabdc6db03f06e747",
            "placeholder": "​",
            "style": "IPY_MODEL_c8497ad77ba34a49a381876778cab135",
            "value": " 10000/10000 [00:00&lt;00:00, 186047.20it/s]"
          }
        },
        "0e205998f0c84463b21275388760c9c7": {
          "model_module": "@jupyter-widgets/base",
          "model_name": "LayoutModel",
          "model_module_version": "1.2.0",
          "state": {
            "_model_module": "@jupyter-widgets/base",
            "_model_module_version": "1.2.0",
            "_model_name": "LayoutModel",
            "_view_count": null,
            "_view_module": "@jupyter-widgets/base",
            "_view_module_version": "1.2.0",
            "_view_name": "LayoutView",
            "align_content": null,
            "align_items": null,
            "align_self": null,
            "border": null,
            "bottom": null,
            "display": null,
            "flex": null,
            "flex_flow": null,
            "grid_area": null,
            "grid_auto_columns": null,
            "grid_auto_flow": null,
            "grid_auto_rows": null,
            "grid_column": null,
            "grid_gap": null,
            "grid_row": null,
            "grid_template_areas": null,
            "grid_template_columns": null,
            "grid_template_rows": null,
            "height": null,
            "justify_content": null,
            "justify_items": null,
            "left": null,
            "margin": null,
            "max_height": null,
            "max_width": null,
            "min_height": null,
            "min_width": null,
            "object_fit": null,
            "object_position": null,
            "order": null,
            "overflow": null,
            "overflow_x": null,
            "overflow_y": null,
            "padding": null,
            "right": null,
            "top": null,
            "visibility": null,
            "width": null
          }
        },
        "31375258c18947d7a8407550a8c8c97f": {
          "model_module": "@jupyter-widgets/base",
          "model_name": "LayoutModel",
          "model_module_version": "1.2.0",
          "state": {
            "_model_module": "@jupyter-widgets/base",
            "_model_module_version": "1.2.0",
            "_model_name": "LayoutModel",
            "_view_count": null,
            "_view_module": "@jupyter-widgets/base",
            "_view_module_version": "1.2.0",
            "_view_name": "LayoutView",
            "align_content": null,
            "align_items": null,
            "align_self": null,
            "border": null,
            "bottom": null,
            "display": null,
            "flex": null,
            "flex_flow": null,
            "grid_area": null,
            "grid_auto_columns": null,
            "grid_auto_flow": null,
            "grid_auto_rows": null,
            "grid_column": null,
            "grid_gap": null,
            "grid_row": null,
            "grid_template_areas": null,
            "grid_template_columns": null,
            "grid_template_rows": null,
            "height": null,
            "justify_content": null,
            "justify_items": null,
            "left": null,
            "margin": null,
            "max_height": null,
            "max_width": null,
            "min_height": null,
            "min_width": null,
            "object_fit": null,
            "object_position": null,
            "order": null,
            "overflow": null,
            "overflow_x": null,
            "overflow_y": null,
            "padding": null,
            "right": null,
            "top": null,
            "visibility": null,
            "width": null
          }
        },
        "61c269376798489c94128ccd3b1ceee3": {
          "model_module": "@jupyter-widgets/controls",
          "model_name": "DescriptionStyleModel",
          "model_module_version": "1.5.0",
          "state": {
            "_model_module": "@jupyter-widgets/controls",
            "_model_module_version": "1.5.0",
            "_model_name": "DescriptionStyleModel",
            "_view_count": null,
            "_view_module": "@jupyter-widgets/base",
            "_view_module_version": "1.2.0",
            "_view_name": "StyleView",
            "description_width": ""
          }
        },
        "f23a5fe2f28f42f29f32ed5f80ce5fab": {
          "model_module": "@jupyter-widgets/base",
          "model_name": "LayoutModel",
          "model_module_version": "1.2.0",
          "state": {
            "_model_module": "@jupyter-widgets/base",
            "_model_module_version": "1.2.0",
            "_model_name": "LayoutModel",
            "_view_count": null,
            "_view_module": "@jupyter-widgets/base",
            "_view_module_version": "1.2.0",
            "_view_name": "LayoutView",
            "align_content": null,
            "align_items": null,
            "align_self": null,
            "border": null,
            "bottom": null,
            "display": null,
            "flex": null,
            "flex_flow": null,
            "grid_area": null,
            "grid_auto_columns": null,
            "grid_auto_flow": null,
            "grid_auto_rows": null,
            "grid_column": null,
            "grid_gap": null,
            "grid_row": null,
            "grid_template_areas": null,
            "grid_template_columns": null,
            "grid_template_rows": null,
            "height": null,
            "justify_content": null,
            "justify_items": null,
            "left": null,
            "margin": null,
            "max_height": null,
            "max_width": null,
            "min_height": null,
            "min_width": null,
            "object_fit": null,
            "object_position": null,
            "order": null,
            "overflow": null,
            "overflow_x": null,
            "overflow_y": null,
            "padding": null,
            "right": null,
            "top": null,
            "visibility": null,
            "width": null
          }
        },
        "d64a801236164b49ac40f6f5cbbc1e29": {
          "model_module": "@jupyter-widgets/controls",
          "model_name": "ProgressStyleModel",
          "model_module_version": "1.5.0",
          "state": {
            "_model_module": "@jupyter-widgets/controls",
            "_model_module_version": "1.5.0",
            "_model_name": "ProgressStyleModel",
            "_view_count": null,
            "_view_module": "@jupyter-widgets/base",
            "_view_module_version": "1.2.0",
            "_view_name": "StyleView",
            "bar_color": null,
            "description_width": ""
          }
        },
        "5fdcb596cc21499eabdc6db03f06e747": {
          "model_module": "@jupyter-widgets/base",
          "model_name": "LayoutModel",
          "model_module_version": "1.2.0",
          "state": {
            "_model_module": "@jupyter-widgets/base",
            "_model_module_version": "1.2.0",
            "_model_name": "LayoutModel",
            "_view_count": null,
            "_view_module": "@jupyter-widgets/base",
            "_view_module_version": "1.2.0",
            "_view_name": "LayoutView",
            "align_content": null,
            "align_items": null,
            "align_self": null,
            "border": null,
            "bottom": null,
            "display": null,
            "flex": null,
            "flex_flow": null,
            "grid_area": null,
            "grid_auto_columns": null,
            "grid_auto_flow": null,
            "grid_auto_rows": null,
            "grid_column": null,
            "grid_gap": null,
            "grid_row": null,
            "grid_template_areas": null,
            "grid_template_columns": null,
            "grid_template_rows": null,
            "height": null,
            "justify_content": null,
            "justify_items": null,
            "left": null,
            "margin": null,
            "max_height": null,
            "max_width": null,
            "min_height": null,
            "min_width": null,
            "object_fit": null,
            "object_position": null,
            "order": null,
            "overflow": null,
            "overflow_x": null,
            "overflow_y": null,
            "padding": null,
            "right": null,
            "top": null,
            "visibility": null,
            "width": null
          }
        },
        "c8497ad77ba34a49a381876778cab135": {
          "model_module": "@jupyter-widgets/controls",
          "model_name": "DescriptionStyleModel",
          "model_module_version": "1.5.0",
          "state": {
            "_model_module": "@jupyter-widgets/controls",
            "_model_module_version": "1.5.0",
            "_model_name": "DescriptionStyleModel",
            "_view_count": null,
            "_view_module": "@jupyter-widgets/base",
            "_view_module_version": "1.2.0",
            "_view_name": "StyleView",
            "description_width": ""
          }
        },
        "3dc37eb637d3427b97d3262e6f6a32f0": {
          "model_module": "@jupyter-widgets/controls",
          "model_name": "HBoxModel",
          "model_module_version": "1.5.0",
          "state": {
            "_dom_classes": [],
            "_model_module": "@jupyter-widgets/controls",
            "_model_module_version": "1.5.0",
            "_model_name": "HBoxModel",
            "_view_count": null,
            "_view_module": "@jupyter-widgets/controls",
            "_view_module_version": "1.5.0",
            "_view_name": "HBoxView",
            "box_style": "",
            "children": [
              "IPY_MODEL_97c9373f786f4230a5b8b299174bc897",
              "IPY_MODEL_630ff00ba992426ea5eec5162313dce2",
              "IPY_MODEL_b75bddb840d54f3fa96b34fb8c4a10d9"
            ],
            "layout": "IPY_MODEL_fc15db45d3d24889a050a7b121f64b34"
          }
        },
        "97c9373f786f4230a5b8b299174bc897": {
          "model_module": "@jupyter-widgets/controls",
          "model_name": "HTMLModel",
          "model_module_version": "1.5.0",
          "state": {
            "_dom_classes": [],
            "_model_module": "@jupyter-widgets/controls",
            "_model_module_version": "1.5.0",
            "_model_name": "HTMLModel",
            "_view_count": null,
            "_view_module": "@jupyter-widgets/controls",
            "_view_module_version": "1.5.0",
            "_view_name": "HTMLView",
            "description": "",
            "description_tooltip": null,
            "layout": "IPY_MODEL_76c3f8b6eff04dd1991dfb7e6b4faadd",
            "placeholder": "​",
            "style": "IPY_MODEL_1e2af45c724d4a0d8f17f75374a2c0f9",
            "value": "100%"
          }
        },
        "630ff00ba992426ea5eec5162313dce2": {
          "model_module": "@jupyter-widgets/controls",
          "model_name": "FloatProgressModel",
          "model_module_version": "1.5.0",
          "state": {
            "_dom_classes": [],
            "_model_module": "@jupyter-widgets/controls",
            "_model_module_version": "1.5.0",
            "_model_name": "FloatProgressModel",
            "_view_count": null,
            "_view_module": "@jupyter-widgets/controls",
            "_view_module_version": "1.5.0",
            "_view_name": "ProgressView",
            "bar_style": "success",
            "description": "",
            "description_tooltip": null,
            "layout": "IPY_MODEL_077022d74319424c9d59ff3b2d4fdabf",
            "max": 1000,
            "min": 0,
            "orientation": "horizontal",
            "style": "IPY_MODEL_7cdb9f89d9f84b26b06c48ce40e05dc9",
            "value": 1000
          }
        },
        "b75bddb840d54f3fa96b34fb8c4a10d9": {
          "model_module": "@jupyter-widgets/controls",
          "model_name": "HTMLModel",
          "model_module_version": "1.5.0",
          "state": {
            "_dom_classes": [],
            "_model_module": "@jupyter-widgets/controls",
            "_model_module_version": "1.5.0",
            "_model_name": "HTMLModel",
            "_view_count": null,
            "_view_module": "@jupyter-widgets/controls",
            "_view_module_version": "1.5.0",
            "_view_name": "HTMLView",
            "description": "",
            "description_tooltip": null,
            "layout": "IPY_MODEL_99ec176bddeb40f9a00130bb28d93a85",
            "placeholder": "​",
            "style": "IPY_MODEL_d212dac8e6ee492cbfc284e2c0330c91",
            "value": " 1000/1000 [11:21&lt;00:00,  1.52it/s]"
          }
        },
        "fc15db45d3d24889a050a7b121f64b34": {
          "model_module": "@jupyter-widgets/base",
          "model_name": "LayoutModel",
          "model_module_version": "1.2.0",
          "state": {
            "_model_module": "@jupyter-widgets/base",
            "_model_module_version": "1.2.0",
            "_model_name": "LayoutModel",
            "_view_count": null,
            "_view_module": "@jupyter-widgets/base",
            "_view_module_version": "1.2.0",
            "_view_name": "LayoutView",
            "align_content": null,
            "align_items": null,
            "align_self": null,
            "border": null,
            "bottom": null,
            "display": null,
            "flex": null,
            "flex_flow": null,
            "grid_area": null,
            "grid_auto_columns": null,
            "grid_auto_flow": null,
            "grid_auto_rows": null,
            "grid_column": null,
            "grid_gap": null,
            "grid_row": null,
            "grid_template_areas": null,
            "grid_template_columns": null,
            "grid_template_rows": null,
            "height": null,
            "justify_content": null,
            "justify_items": null,
            "left": null,
            "margin": null,
            "max_height": null,
            "max_width": null,
            "min_height": null,
            "min_width": null,
            "object_fit": null,
            "object_position": null,
            "order": null,
            "overflow": null,
            "overflow_x": null,
            "overflow_y": null,
            "padding": null,
            "right": null,
            "top": null,
            "visibility": null,
            "width": null
          }
        },
        "76c3f8b6eff04dd1991dfb7e6b4faadd": {
          "model_module": "@jupyter-widgets/base",
          "model_name": "LayoutModel",
          "model_module_version": "1.2.0",
          "state": {
            "_model_module": "@jupyter-widgets/base",
            "_model_module_version": "1.2.0",
            "_model_name": "LayoutModel",
            "_view_count": null,
            "_view_module": "@jupyter-widgets/base",
            "_view_module_version": "1.2.0",
            "_view_name": "LayoutView",
            "align_content": null,
            "align_items": null,
            "align_self": null,
            "border": null,
            "bottom": null,
            "display": null,
            "flex": null,
            "flex_flow": null,
            "grid_area": null,
            "grid_auto_columns": null,
            "grid_auto_flow": null,
            "grid_auto_rows": null,
            "grid_column": null,
            "grid_gap": null,
            "grid_row": null,
            "grid_template_areas": null,
            "grid_template_columns": null,
            "grid_template_rows": null,
            "height": null,
            "justify_content": null,
            "justify_items": null,
            "left": null,
            "margin": null,
            "max_height": null,
            "max_width": null,
            "min_height": null,
            "min_width": null,
            "object_fit": null,
            "object_position": null,
            "order": null,
            "overflow": null,
            "overflow_x": null,
            "overflow_y": null,
            "padding": null,
            "right": null,
            "top": null,
            "visibility": null,
            "width": null
          }
        },
        "1e2af45c724d4a0d8f17f75374a2c0f9": {
          "model_module": "@jupyter-widgets/controls",
          "model_name": "DescriptionStyleModel",
          "model_module_version": "1.5.0",
          "state": {
            "_model_module": "@jupyter-widgets/controls",
            "_model_module_version": "1.5.0",
            "_model_name": "DescriptionStyleModel",
            "_view_count": null,
            "_view_module": "@jupyter-widgets/base",
            "_view_module_version": "1.2.0",
            "_view_name": "StyleView",
            "description_width": ""
          }
        },
        "077022d74319424c9d59ff3b2d4fdabf": {
          "model_module": "@jupyter-widgets/base",
          "model_name": "LayoutModel",
          "model_module_version": "1.2.0",
          "state": {
            "_model_module": "@jupyter-widgets/base",
            "_model_module_version": "1.2.0",
            "_model_name": "LayoutModel",
            "_view_count": null,
            "_view_module": "@jupyter-widgets/base",
            "_view_module_version": "1.2.0",
            "_view_name": "LayoutView",
            "align_content": null,
            "align_items": null,
            "align_self": null,
            "border": null,
            "bottom": null,
            "display": null,
            "flex": null,
            "flex_flow": null,
            "grid_area": null,
            "grid_auto_columns": null,
            "grid_auto_flow": null,
            "grid_auto_rows": null,
            "grid_column": null,
            "grid_gap": null,
            "grid_row": null,
            "grid_template_areas": null,
            "grid_template_columns": null,
            "grid_template_rows": null,
            "height": null,
            "justify_content": null,
            "justify_items": null,
            "left": null,
            "margin": null,
            "max_height": null,
            "max_width": null,
            "min_height": null,
            "min_width": null,
            "object_fit": null,
            "object_position": null,
            "order": null,
            "overflow": null,
            "overflow_x": null,
            "overflow_y": null,
            "padding": null,
            "right": null,
            "top": null,
            "visibility": null,
            "width": null
          }
        },
        "7cdb9f89d9f84b26b06c48ce40e05dc9": {
          "model_module": "@jupyter-widgets/controls",
          "model_name": "ProgressStyleModel",
          "model_module_version": "1.5.0",
          "state": {
            "_model_module": "@jupyter-widgets/controls",
            "_model_module_version": "1.5.0",
            "_model_name": "ProgressStyleModel",
            "_view_count": null,
            "_view_module": "@jupyter-widgets/base",
            "_view_module_version": "1.2.0",
            "_view_name": "StyleView",
            "bar_color": null,
            "description_width": ""
          }
        },
        "99ec176bddeb40f9a00130bb28d93a85": {
          "model_module": "@jupyter-widgets/base",
          "model_name": "LayoutModel",
          "model_module_version": "1.2.0",
          "state": {
            "_model_module": "@jupyter-widgets/base",
            "_model_module_version": "1.2.0",
            "_model_name": "LayoutModel",
            "_view_count": null,
            "_view_module": "@jupyter-widgets/base",
            "_view_module_version": "1.2.0",
            "_view_name": "LayoutView",
            "align_content": null,
            "align_items": null,
            "align_self": null,
            "border": null,
            "bottom": null,
            "display": null,
            "flex": null,
            "flex_flow": null,
            "grid_area": null,
            "grid_auto_columns": null,
            "grid_auto_flow": null,
            "grid_auto_rows": null,
            "grid_column": null,
            "grid_gap": null,
            "grid_row": null,
            "grid_template_areas": null,
            "grid_template_columns": null,
            "grid_template_rows": null,
            "height": null,
            "justify_content": null,
            "justify_items": null,
            "left": null,
            "margin": null,
            "max_height": null,
            "max_width": null,
            "min_height": null,
            "min_width": null,
            "object_fit": null,
            "object_position": null,
            "order": null,
            "overflow": null,
            "overflow_x": null,
            "overflow_y": null,
            "padding": null,
            "right": null,
            "top": null,
            "visibility": null,
            "width": null
          }
        },
        "d212dac8e6ee492cbfc284e2c0330c91": {
          "model_module": "@jupyter-widgets/controls",
          "model_name": "DescriptionStyleModel",
          "model_module_version": "1.5.0",
          "state": {
            "_model_module": "@jupyter-widgets/controls",
            "_model_module_version": "1.5.0",
            "_model_name": "DescriptionStyleModel",
            "_view_count": null,
            "_view_module": "@jupyter-widgets/base",
            "_view_module_version": "1.2.0",
            "_view_name": "StyleView",
            "description_width": ""
          }
        }
      }
    },
    "accelerator": "GPU"
  },
  "nbformat_minor": 0,
  "nbformat": 4,
  "cells": [
    {
      "cell_type": "code",
      "source": [
        "!rm -r /content/concatenated_images"
      ],
      "metadata": {
        "id": "pPFocYWADjaS"
      },
      "execution_count": 4,
      "outputs": []
    },
    {
      "cell_type": "code",
      "source": [
        "from PIL import Image, ImageDraw,ImageFont\n",
        "import os\n",
        "\n",
        "# Output directory to save the generated images\n",
        "output_dir = \"digit_images/\"\n",
        "os.makedirs(output_dir, exist_ok=True)\n",
        "\n",
        "# Create and save images for digits 0 to 9\n",
        "for digit in range(10):\n",
        "    img = Image.new(\"RGB\", (28, 28), (255, 255, 255))  # White background\n",
        "    draw = ImageDraw.Draw(img)\n",
        "\n",
        "    # You can add the digit as text in the center with black color\n",
        "    digit_font = ImageFont.load_default()\n",
        "    text_width, text_height = draw.textsize(str(digit), font=digit_font)\n",
        "    text_x = (28 - text_width) // 2\n",
        "    text_y = (28 - text_height) // 2\n",
        "    draw.text((text_x, text_y), str(digit), fill=(0, 0, 0))  # Black text\n",
        "\n",
        "    # Save the image\n",
        "    img.save(os.path.join(output_dir, f\"digit_{digit}.png\"))\n",
        "\n",
        "print(\"Images of digits 0 to 9 with a white background and black digits have been created and saved.\")\n"
      ],
      "metadata": {
        "colab": {
          "base_uri": "https://localhost:8080/"
        },
        "id": "aR9Ks10JAWPn",
        "outputId": "6a81b282-288e-489d-ada7-ae8e63f63061"
      },
      "execution_count": 5,
      "outputs": [
        {
          "output_type": "stream",
          "name": "stdout",
          "text": [
            "Images of digits 0 to 9 with a white background and black digits have been created and saved.\n"
          ]
        },
        {
          "output_type": "stream",
          "name": "stderr",
          "text": [
            "<ipython-input-5-e38bde543be8>:15: DeprecationWarning: textsize is deprecated and will be removed in Pillow 10 (2023-07-01). Use textbbox or textlength instead.\n",
            "  text_width, text_height = draw.textsize(str(digit), font=digit_font)\n",
            "<ipython-input-5-e38bde543be8>:15: DeprecationWarning: textsize is deprecated and will be removed in Pillow 10 (2023-07-01). Use textbbox or textlength instead.\n",
            "  text_width, text_height = draw.textsize(str(digit), font=digit_font)\n",
            "<ipython-input-5-e38bde543be8>:15: DeprecationWarning: textsize is deprecated and will be removed in Pillow 10 (2023-07-01). Use textbbox or textlength instead.\n",
            "  text_width, text_height = draw.textsize(str(digit), font=digit_font)\n",
            "<ipython-input-5-e38bde543be8>:15: DeprecationWarning: textsize is deprecated and will be removed in Pillow 10 (2023-07-01). Use textbbox or textlength instead.\n",
            "  text_width, text_height = draw.textsize(str(digit), font=digit_font)\n",
            "<ipython-input-5-e38bde543be8>:15: DeprecationWarning: textsize is deprecated and will be removed in Pillow 10 (2023-07-01). Use textbbox or textlength instead.\n",
            "  text_width, text_height = draw.textsize(str(digit), font=digit_font)\n",
            "<ipython-input-5-e38bde543be8>:15: DeprecationWarning: textsize is deprecated and will be removed in Pillow 10 (2023-07-01). Use textbbox or textlength instead.\n",
            "  text_width, text_height = draw.textsize(str(digit), font=digit_font)\n",
            "<ipython-input-5-e38bde543be8>:15: DeprecationWarning: textsize is deprecated and will be removed in Pillow 10 (2023-07-01). Use textbbox or textlength instead.\n",
            "  text_width, text_height = draw.textsize(str(digit), font=digit_font)\n",
            "<ipython-input-5-e38bde543be8>:15: DeprecationWarning: textsize is deprecated and will be removed in Pillow 10 (2023-07-01). Use textbbox or textlength instead.\n",
            "  text_width, text_height = draw.textsize(str(digit), font=digit_font)\n",
            "<ipython-input-5-e38bde543be8>:15: DeprecationWarning: textsize is deprecated and will be removed in Pillow 10 (2023-07-01). Use textbbox or textlength instead.\n",
            "  text_width, text_height = draw.textsize(str(digit), font=digit_font)\n",
            "<ipython-input-5-e38bde543be8>:15: DeprecationWarning: textsize is deprecated and will be removed in Pillow 10 (2023-07-01). Use textbbox or textlength instead.\n",
            "  text_width, text_height = draw.textsize(str(digit), font=digit_font)\n"
          ]
        }
      ]
    },
    {
      "cell_type": "code",
      "source": [
        "import os\n",
        "import random\n",
        "import inflect\n",
        "\n",
        "# Output directory to save the generated images\n",
        "output_dir = \"concatenated_images/\"\n",
        "os.makedirs(output_dir, exist_ok=True)\n",
        "\n",
        "# Output directory to save the label text file\n",
        "labels_file_path = \"labels.txt\"\n",
        "\n",
        "# Load the digit images (assuming they are named \"digit_0.png\" to \"digit_9.png\")\n",
        "digit_images = [Image.open(f\"digit_images/digit_{i}.png\") for i in range(10)]\n",
        "\n",
        "# Create an inflect engine for converting numbers to words\n",
        "p = inflect.engine()\n",
        "\n",
        "# Define the dimensions of the concatenated image\n",
        "image_width = 28 * 10  # 10 digits horizontally\n",
        "image_height = 28\n",
        "\n",
        "# Create and save 100,000 concatenated images\n",
        "with open(labels_file_path, \"w\") as labels_file:\n",
        "    for i in range(10000):\n",
        "        # Generate a random sequence of 10 digits as a string\n",
        "        random_sequence = \"\".join(str(random.randint(0, 9)) for _ in range(10))\n",
        "\n",
        "        # Convert numerical labels to word representations\n",
        "        label_as_words = \" \".join(p.number_to_words(digit) for digit in random_sequence)\n",
        "\n",
        "        # Create an empty concatenated image\n",
        "        concatenated_image = Image.new(\"RGB\", (image_width, image_height), (255, 255, 255))  # White background\n",
        "\n",
        "        # Paste each digit into the concatenated image\n",
        "        for j, digit in enumerate(random_sequence):\n",
        "            digit_image = digit_images[int(digit)]\n",
        "            x_offset = j * 28\n",
        "            concatenated_image.paste(digit_image, (x_offset, 0))\n",
        "\n",
        "        # Generate the image filename\n",
        "        image_filename = f\"{random_sequence}.png\"\n",
        "\n",
        "        # Save the concatenated image with the filename representing the digit sequence\n",
        "        concatenated_image.save(os.path.join(output_dir, image_filename))\n",
        "\n",
        "        # Write the label as words to the text file\n",
        "        labels_file.write(f\"{image_filename}: {label_as_words}\\n\")\n",
        "\n",
        "print(\"10,000 concatenated images have been created and labels (as words) have been saved to a text file.\")\n"
      ],
      "metadata": {
        "colab": {
          "base_uri": "https://localhost:8080/"
        },
        "id": "bBS5e7hjAZQW",
        "outputId": "ccb90e26-7d37-4172-997a-cfbbee344091"
      },
      "execution_count": 6,
      "outputs": [
        {
          "output_type": "stream",
          "name": "stdout",
          "text": [
            "10,000 concatenated images have been created and labels (as words) have been saved to a text file.\n"
          ]
        }
      ]
    },
    {
      "cell_type": "code",
      "source": [
        "import numpy as np # linear algebra\n",
        "import pandas as pd # data processing, CSV file I/O (e.g. pd.read_csv)\n",
        "\n",
        "# Input data files are available in the read-only \"../input/\" directory\n",
        "# For example, running this (by clicking run or pressing Shift+Enter) will list all files under the input directory\n",
        "counter=0\n",
        "import os\n",
        "image_dir='/content/concatenated_images'\n",
        "for filename in os.listdir(image_dir):\n",
        "  #print(os.path.join(image_dir, filename))\n",
        "  counter+=1\n",
        "print(counter)"
      ],
      "metadata": {
        "colab": {
          "base_uri": "https://localhost:8080/"
        },
        "id": "Iuxx6r-QAZFa",
        "outputId": "d71289a3-2f13-464a-983a-3b250f270527"
      },
      "execution_count": 7,
      "outputs": [
        {
          "output_type": "stream",
          "name": "stdout",
          "text": [
            "10000\n"
          ]
        }
      ]
    },
    {
      "cell_type": "code",
      "source": [
        "import shutil\n",
        "\n",
        "# Replace 'folder_to_download' with the path to the folder you want to download\n",
        "folder_to_download = '/content/concatenated_images'  # Example path, replace with your folder's path\n",
        "output_filename = '/content/data.zip'  # Choose a name for the ZIP file\n",
        "\n",
        "# Create a ZIP archive of the folder\n",
        "shutil.make_archive(output_filename[:-4], 'zip', folder_to_download)\n"
      ],
      "metadata": {
        "colab": {
          "base_uri": "https://localhost:8080/",
          "height": 35
        },
        "id": "WPU3mA9WCl0K",
        "outputId": "480dc6dc-f6c4-4e9e-e900-a01a88ad1857"
      },
      "execution_count": 8,
      "outputs": [
        {
          "output_type": "execute_result",
          "data": {
            "text/plain": [
              "'/content/data.zip'"
            ],
            "application/vnd.google.colaboratory.intrinsic+json": {
              "type": "string"
            }
          },
          "metadata": {},
          "execution_count": 8
        }
      ]
    },
    {
      "cell_type": "code",
      "source": [
        "import os\n",
        "import pickle\n",
        "import numpy as np\n",
        "from tqdm.notebook import tqdm\n",
        "from PIL import Image\n",
        "import matplotlib.pyplot as plt\n",
        "\n",
        "from tensorflow.keras.applications.vgg19 import VGG19, preprocess_input\n",
        "from tensorflow.keras.preprocessing.image import load_img, img_to_array\n",
        "from tensorflow.keras.preprocessing.text import Tokenizer\n",
        "from tensorflow.keras.preprocessing.sequence import pad_sequences\n",
        "from tensorflow.keras.models import Model\n",
        "from tensorflow.keras.utils import to_categorical, plot_model\n",
        "from tensorflow.keras.layers import Input, Dense, LSTM, Embedding, Dropout, add"
      ],
      "metadata": {
        "execution": {
          "iopub.status.busy": "2023-09-10T17:42:48.029189Z",
          "iopub.execute_input": "2023-09-10T17:42:48.029445Z",
          "iopub.status.idle": "2023-09-10T17:42:48.051958Z",
          "shell.execute_reply.started": "2023-09-10T17:42:48.029408Z",
          "shell.execute_reply": "2023-09-10T17:42:48.051372Z"
        },
        "trusted": true,
        "id": "7njSWOeX9s00"
      },
      "execution_count": 9,
      "outputs": []
    },
    {
      "cell_type": "code",
      "source": [
        "BASE_DIR = '/content'\n",
        "WORKING_DIR = '/content'"
      ],
      "metadata": {
        "execution": {
          "iopub.status.busy": "2023-09-10T17:42:48.055615Z",
          "iopub.execute_input": "2023-09-10T17:42:48.059016Z",
          "iopub.status.idle": "2023-09-10T17:42:48.065863Z",
          "shell.execute_reply.started": "2023-09-10T17:42:48.058979Z",
          "shell.execute_reply": "2023-09-10T17:42:48.065313Z"
        },
        "trusted": true,
        "id": "2RWJBC0p9s01"
      },
      "execution_count": 10,
      "outputs": []
    },
    {
      "cell_type": "code",
      "source": [
        "# load vgg19 model\n",
        "model = VGG19()\n",
        "# restructure the model\n",
        "model = Model(inputs=model.inputs, outputs=model.layers[-2].output)\n",
        "# summarize\n",
        "print(model.summary())"
      ],
      "metadata": {
        "execution": {
          "iopub.status.busy": "2023-09-10T17:42:48.066954Z",
          "iopub.execute_input": "2023-09-10T17:42:48.067174Z",
          "iopub.status.idle": "2023-09-10T17:42:50.339073Z",
          "shell.execute_reply.started": "2023-09-10T17:42:48.067143Z",
          "shell.execute_reply": "2023-09-10T17:42:50.338290Z"
        },
        "trusted": true,
        "colab": {
          "base_uri": "https://localhost:8080/"
        },
        "id": "pSVsTjIT9s01",
        "outputId": "c40d6fe5-2098-4666-d676-06898a7b9315"
      },
      "execution_count": 11,
      "outputs": [
        {
          "output_type": "stream",
          "name": "stdout",
          "text": [
            "Model: \"model\"\n",
            "_________________________________________________________________\n",
            " Layer (type)                Output Shape              Param #   \n",
            "=================================================================\n",
            " input_1 (InputLayer)        [(None, 224, 224, 3)]     0         \n",
            "                                                                 \n",
            " block1_conv1 (Conv2D)       (None, 224, 224, 64)      1792      \n",
            "                                                                 \n",
            " block1_conv2 (Conv2D)       (None, 224, 224, 64)      36928     \n",
            "                                                                 \n",
            " block1_pool (MaxPooling2D)  (None, 112, 112, 64)      0         \n",
            "                                                                 \n",
            " block2_conv1 (Conv2D)       (None, 112, 112, 128)     73856     \n",
            "                                                                 \n",
            " block2_conv2 (Conv2D)       (None, 112, 112, 128)     147584    \n",
            "                                                                 \n",
            " block2_pool (MaxPooling2D)  (None, 56, 56, 128)       0         \n",
            "                                                                 \n",
            " block3_conv1 (Conv2D)       (None, 56, 56, 256)       295168    \n",
            "                                                                 \n",
            " block3_conv2 (Conv2D)       (None, 56, 56, 256)       590080    \n",
            "                                                                 \n",
            " block3_conv3 (Conv2D)       (None, 56, 56, 256)       590080    \n",
            "                                                                 \n",
            " block3_conv4 (Conv2D)       (None, 56, 56, 256)       590080    \n",
            "                                                                 \n",
            " block3_pool (MaxPooling2D)  (None, 28, 28, 256)       0         \n",
            "                                                                 \n",
            " block4_conv1 (Conv2D)       (None, 28, 28, 512)       1180160   \n",
            "                                                                 \n",
            " block4_conv2 (Conv2D)       (None, 28, 28, 512)       2359808   \n",
            "                                                                 \n",
            " block4_conv3 (Conv2D)       (None, 28, 28, 512)       2359808   \n",
            "                                                                 \n",
            " block4_conv4 (Conv2D)       (None, 28, 28, 512)       2359808   \n",
            "                                                                 \n",
            " block4_pool (MaxPooling2D)  (None, 14, 14, 512)       0         \n",
            "                                                                 \n",
            " block5_conv1 (Conv2D)       (None, 14, 14, 512)       2359808   \n",
            "                                                                 \n",
            " block5_conv2 (Conv2D)       (None, 14, 14, 512)       2359808   \n",
            "                                                                 \n",
            " block5_conv3 (Conv2D)       (None, 14, 14, 512)       2359808   \n",
            "                                                                 \n",
            " block5_conv4 (Conv2D)       (None, 14, 14, 512)       2359808   \n",
            "                                                                 \n",
            " block5_pool (MaxPooling2D)  (None, 7, 7, 512)         0         \n",
            "                                                                 \n",
            " flatten (Flatten)           (None, 25088)             0         \n",
            "                                                                 \n",
            " fc1 (Dense)                 (None, 4096)              102764544 \n",
            "                                                                 \n",
            " fc2 (Dense)                 (None, 4096)              16781312  \n",
            "                                                                 \n",
            "=================================================================\n",
            "Total params: 139570240 (532.42 MB)\n",
            "Trainable params: 139570240 (532.42 MB)\n",
            "Non-trainable params: 0 (0.00 Byte)\n",
            "_________________________________________________________________\n",
            "None\n"
          ]
        }
      ]
    },
    {
      "cell_type": "code",
      "source": [
        "# extract features from image\n",
        "features = {}\n",
        "directory = os.path.join(BASE_DIR, 'concatenated_images')\n",
        "\n",
        "for img_name in tqdm(os.listdir(directory)):\n",
        "    # load the image from file\n",
        "    img_path = directory + '/' + img_name\n",
        "    image = load_img(img_path, target_size=(224, 224))\n",
        "    # convert image pixels to numpy array\n",
        "    image = img_to_array(image)\n",
        "    #print(image.shape)\n",
        "    # reshape data for model\n",
        "    image = image.reshape((1, image.shape[0], image.shape[1], image.shape[2]))\n",
        "    #print(image.shape)\n",
        "    # preprocess image for vgg\n",
        "    image = preprocess_input(image)\n",
        "    #print(image.shape)\n",
        "    # extract features\n",
        "    feature = model.predict(image, verbose=0)\n",
        "    #print(feature.shape)\n",
        "    #print(feature)\n",
        "    # get image ID\n",
        "    image_id = img_name.split('.')[0]\n",
        "    #print(image_id)\n",
        "    # store feature\n",
        "    features[image_id] = feature\n",
        "    #break"
      ],
      "metadata": {
        "execution": {
          "iopub.status.busy": "2023-09-10T17:42:50.341326Z",
          "iopub.execute_input": "2023-09-10T17:42:50.341663Z",
          "iopub.status.idle": "2023-09-10T17:50:05.638290Z",
          "shell.execute_reply.started": "2023-09-10T17:42:50.341624Z",
          "shell.execute_reply": "2023-09-10T17:50:05.637547Z"
        },
        "trusted": true,
        "colab": {
          "base_uri": "https://localhost:8080/",
          "height": 49,
          "referenced_widgets": [
            "6c2fa39246af4b178c3172aa9758f233",
            "a68f3a8e371849c38fdb4e28f0685a8f",
            "ae28ad88b1dc4e24a82b51f3cc9f6103",
            "e30a251e75c94523bfd99c7e7f8902b5",
            "874d5dd5f81741a8b0ff03a88d863dc4",
            "4932325ae86c445384a94f3a3df1bccd",
            "239d30c1ee8147e2a5b61174e5fcc322",
            "773ed540e1a54c1ca23580d515bc3fe5",
            "0f75a37f0dc643a789f578367299802c",
            "376c97178123465ea85e731074be0b48",
            "30a08f168f734918a1640037ddd2f5ba"
          ]
        },
        "id": "YNe1ay6_9s01",
        "outputId": "ebe1c7e3-664b-401b-db9b-8a7b839b1a22"
      },
      "execution_count": 12,
      "outputs": [
        {
          "output_type": "display_data",
          "data": {
            "text/plain": [
              "  0%|          | 0/10000 [00:00<?, ?it/s]"
            ],
            "application/vnd.jupyter.widget-view+json": {
              "version_major": 2,
              "version_minor": 0,
              "model_id": "6c2fa39246af4b178c3172aa9758f233"
            }
          },
          "metadata": {}
        }
      ]
    },
    {
      "cell_type": "code",
      "source": [
        "# store features in pickle\n",
        "pickle.dump(features, open(os.path.join(WORKING_DIR, 'features.pkl'), 'wb'))"
      ],
      "metadata": {
        "execution": {
          "iopub.status.busy": "2023-09-10T17:50:05.639665Z",
          "iopub.execute_input": "2023-09-10T17:50:05.640481Z",
          "iopub.status.idle": "2023-09-10T17:50:06.062932Z",
          "shell.execute_reply.started": "2023-09-10T17:50:05.640436Z",
          "shell.execute_reply": "2023-09-10T17:50:06.062180Z"
        },
        "trusted": true,
        "id": "epYFw0i69s02"
      },
      "execution_count": 13,
      "outputs": []
    },
    {
      "cell_type": "code",
      "source": [
        "# load features from pickle\n",
        "with open(os.path.join(WORKING_DIR, 'features.pkl'), 'rb') as f:\n",
        "    features = pickle.load(f)"
      ],
      "metadata": {
        "execution": {
          "iopub.status.busy": "2023-09-10T17:50:06.064404Z",
          "iopub.execute_input": "2023-09-10T17:50:06.065301Z",
          "iopub.status.idle": "2023-09-10T17:50:06.179826Z",
          "shell.execute_reply.started": "2023-09-10T17:50:06.065258Z",
          "shell.execute_reply": "2023-09-10T17:50:06.179040Z"
        },
        "trusted": true,
        "id": "DRW75TM89s02"
      },
      "execution_count": 14,
      "outputs": []
    },
    {
      "cell_type": "code",
      "source": [
        "with open(os.path.join(BASE_DIR, 'labels.txt'), 'r') as f:\n",
        "    next(f)\n",
        "    captions_doc = f.read()"
      ],
      "metadata": {
        "execution": {
          "iopub.status.busy": "2023-09-10T17:50:06.182485Z",
          "iopub.execute_input": "2023-09-10T17:50:06.182825Z",
          "iopub.status.idle": "2023-09-10T17:50:06.196328Z",
          "shell.execute_reply.started": "2023-09-10T17:50:06.182783Z",
          "shell.execute_reply": "2023-09-10T17:50:06.195387Z"
        },
        "trusted": true,
        "id": "Fpxs3Etd9s02"
      },
      "execution_count": 15,
      "outputs": []
    },
    {
      "cell_type": "code",
      "source": [
        "# create mapping of image to captions\n",
        "mapping = {}\n",
        "# process lines\n",
        "for line in tqdm(captions_doc.split('\\n')):\n",
        "    # split the line by comma(,)\n",
        "    tokens = line.split(':')\n",
        "    if len(line) < 2:\n",
        "        continue\n",
        "    image_id, caption = tokens[0], tokens[1:]\n",
        "    # remove extension from image ID\n",
        "    image_id = image_id.split('.')[0]\n",
        "    # convert caption list to string\n",
        "    caption = \" \".join(caption)\n",
        "    # create list if needed\n",
        "    if image_id not in mapping:\n",
        "        mapping[image_id] = []\n",
        "    # store the caption\n",
        "    mapping[image_id].append(caption)"
      ],
      "metadata": {
        "execution": {
          "iopub.status.busy": "2023-09-10T18:14:06.351685Z",
          "iopub.execute_input": "2023-09-10T18:14:06.351984Z",
          "iopub.status.idle": "2023-09-10T18:14:06.521142Z",
          "shell.execute_reply.started": "2023-09-10T18:14:06.351950Z",
          "shell.execute_reply": "2023-09-10T18:14:06.520410Z"
        },
        "trusted": true,
        "colab": {
          "base_uri": "https://localhost:8080/",
          "height": 49,
          "referenced_widgets": [
            "a975a43ea9344a30b96a57290b21f4b6",
            "247222d946fb4daab3a72c2935c602d2",
            "37861fc5e8c0468ebeb986f554a8de7a",
            "6bf308072ac24b5faee016e7f70e0109",
            "0e205998f0c84463b21275388760c9c7",
            "31375258c18947d7a8407550a8c8c97f",
            "61c269376798489c94128ccd3b1ceee3",
            "f23a5fe2f28f42f29f32ed5f80ce5fab",
            "d64a801236164b49ac40f6f5cbbc1e29",
            "5fdcb596cc21499eabdc6db03f06e747",
            "c8497ad77ba34a49a381876778cab135"
          ]
        },
        "id": "QoPTjSon9s02",
        "outputId": "eaeab3cc-6bed-4c1f-b7f7-f251cfa9a3fb"
      },
      "execution_count": 16,
      "outputs": [
        {
          "output_type": "display_data",
          "data": {
            "text/plain": [
              "  0%|          | 0/10000 [00:00<?, ?it/s]"
            ],
            "application/vnd.jupyter.widget-view+json": {
              "version_major": 2,
              "version_minor": 0,
              "model_id": "a975a43ea9344a30b96a57290b21f4b6"
            }
          },
          "metadata": {}
        }
      ]
    },
    {
      "cell_type": "code",
      "source": [
        "len(mapping)"
      ],
      "metadata": {
        "execution": {
          "iopub.status.busy": "2023-09-10T18:14:07.426491Z",
          "iopub.execute_input": "2023-09-10T18:14:07.427174Z",
          "iopub.status.idle": "2023-09-10T18:14:07.432845Z",
          "shell.execute_reply.started": "2023-09-10T18:14:07.427118Z",
          "shell.execute_reply": "2023-09-10T18:14:07.432000Z"
        },
        "trusted": true,
        "colab": {
          "base_uri": "https://localhost:8080/"
        },
        "id": "Zm_v_jZB9s03",
        "outputId": "93ff59e3-e42d-4740-b643-4e80c88ada0e"
      },
      "execution_count": 17,
      "outputs": [
        {
          "output_type": "execute_result",
          "data": {
            "text/plain": [
              "9999"
            ]
          },
          "metadata": {},
          "execution_count": 17
        }
      ]
    },
    {
      "cell_type": "code",
      "source": [
        "def clean(mapping):\n",
        "    for key, captions in mapping.items():\n",
        "        for i in range(len(captions)):\n",
        "            # take one caption at a time\n",
        "            caption = captions[i]\n",
        "            # preprocessing steps\n",
        "            # convert to lowercase\n",
        "            caption = caption.lower()\n",
        "            # delete digits, special chars, etc.,\n",
        "            caption = caption.replace('[^A-Za-z]', '')\n",
        "            # delete additional spaces\n",
        "            caption = caption.replace('\\s+', ' ')\n",
        "            # add start and end tags to the caption\n",
        "            caption = 'startseq ' + \" \".join([word for word in caption.split() if len(word)>1]) + ' endseq'\n",
        "            captions[i] = caption"
      ],
      "metadata": {
        "execution": {
          "iopub.status.busy": "2023-09-10T18:14:08.241557Z",
          "iopub.execute_input": "2023-09-10T18:14:08.241844Z",
          "iopub.status.idle": "2023-09-10T18:14:08.248598Z",
          "shell.execute_reply.started": "2023-09-10T18:14:08.241811Z",
          "shell.execute_reply": "2023-09-10T18:14:08.247885Z"
        },
        "trusted": true,
        "id": "ohOyB_jY9s03"
      },
      "execution_count": 18,
      "outputs": []
    },
    {
      "cell_type": "code",
      "source": [
        "# before preprocess of text\n",
        "mapping['0000719768']\n"
      ],
      "metadata": {
        "execution": {
          "iopub.status.busy": "2023-09-10T18:14:09.099196Z",
          "iopub.execute_input": "2023-09-10T18:14:09.099470Z",
          "iopub.status.idle": "2023-09-10T18:14:09.106520Z",
          "shell.execute_reply.started": "2023-09-10T18:14:09.099440Z",
          "shell.execute_reply": "2023-09-10T18:14:09.105775Z"
        },
        "trusted": true,
        "colab": {
          "base_uri": "https://localhost:8080/"
        },
        "id": "eqiZ3Z5-9s03",
        "outputId": "5e9927a9-ab2a-44ce-8f92-05da293be236"
      },
      "execution_count": 20,
      "outputs": [
        {
          "output_type": "execute_result",
          "data": {
            "text/plain": [
              "[' zero zero zero zero seven one nine seven six eight']"
            ]
          },
          "metadata": {},
          "execution_count": 20
        }
      ]
    },
    {
      "cell_type": "code",
      "source": [
        "# preprocess the text\n",
        "clean(mapping)"
      ],
      "metadata": {
        "execution": {
          "iopub.status.busy": "2023-09-10T18:14:10.469810Z",
          "iopub.execute_input": "2023-09-10T18:14:10.470090Z",
          "iopub.status.idle": "2023-09-10T18:14:10.643059Z",
          "shell.execute_reply.started": "2023-09-10T18:14:10.470059Z",
          "shell.execute_reply": "2023-09-10T18:14:10.642300Z"
        },
        "trusted": true,
        "id": "_nQZ5C559s03"
      },
      "execution_count": 21,
      "outputs": []
    },
    {
      "cell_type": "code",
      "source": [
        "# after preprocess of text\n",
        "mapping['0000719768']"
      ],
      "metadata": {
        "execution": {
          "iopub.status.busy": "2023-09-10T18:14:12.709866Z",
          "iopub.execute_input": "2023-09-10T18:14:12.710153Z",
          "iopub.status.idle": "2023-09-10T18:14:12.717344Z",
          "shell.execute_reply.started": "2023-09-10T18:14:12.710122Z",
          "shell.execute_reply": "2023-09-10T18:14:12.716637Z"
        },
        "trusted": true,
        "colab": {
          "base_uri": "https://localhost:8080/"
        },
        "id": "yRqJI5k49s04",
        "outputId": "beda1bf3-2d46-4915-d418-b8863ce75cf5"
      },
      "execution_count": 22,
      "outputs": [
        {
          "output_type": "execute_result",
          "data": {
            "text/plain": [
              "['startseq zero zero zero zero seven one nine seven six eight endseq']"
            ]
          },
          "metadata": {},
          "execution_count": 22
        }
      ]
    },
    {
      "cell_type": "code",
      "source": [
        "all_captions = []\n",
        "for key in mapping:\n",
        "    for caption in mapping[key]:\n",
        "        all_captions.append(caption)"
      ],
      "metadata": {
        "execution": {
          "iopub.status.busy": "2023-09-10T18:14:13.566514Z",
          "iopub.execute_input": "2023-09-10T18:14:13.566941Z",
          "iopub.status.idle": "2023-09-10T18:14:13.588745Z",
          "shell.execute_reply.started": "2023-09-10T18:14:13.566904Z",
          "shell.execute_reply": "2023-09-10T18:14:13.587710Z"
        },
        "trusted": true,
        "id": "0cw4mILX9s04"
      },
      "execution_count": 23,
      "outputs": []
    },
    {
      "cell_type": "code",
      "source": [
        "len(all_captions)"
      ],
      "metadata": {
        "execution": {
          "iopub.status.busy": "2023-09-10T18:14:15.440950Z",
          "iopub.execute_input": "2023-09-10T18:14:15.441920Z",
          "iopub.status.idle": "2023-09-10T18:14:15.447647Z",
          "shell.execute_reply.started": "2023-09-10T18:14:15.441860Z",
          "shell.execute_reply": "2023-09-10T18:14:15.446793Z"
        },
        "trusted": true,
        "colab": {
          "base_uri": "https://localhost:8080/"
        },
        "id": "ZpFxGoY19s04",
        "outputId": "3e887c6d-9360-44ef-b08e-5ca2257b5ada"
      },
      "execution_count": 24,
      "outputs": [
        {
          "output_type": "execute_result",
          "data": {
            "text/plain": [
              "9999"
            ]
          },
          "metadata": {},
          "execution_count": 24
        }
      ]
    },
    {
      "cell_type": "code",
      "source": [
        "all_captions[:10]"
      ],
      "metadata": {
        "execution": {
          "iopub.status.busy": "2023-09-10T09:52:37.044151Z",
          "iopub.execute_input": "2023-09-10T09:52:37.044501Z",
          "iopub.status.idle": "2023-09-10T09:52:37.054203Z",
          "shell.execute_reply.started": "2023-09-10T09:52:37.044447Z",
          "shell.execute_reply": "2023-09-10T09:52:37.053248Z"
        },
        "trusted": true,
        "colab": {
          "base_uri": "https://localhost:8080/"
        },
        "id": "dPp6iz239s04",
        "outputId": "1dfb164f-550c-4657-e88c-a26bf75ebe03"
      },
      "execution_count": 25,
      "outputs": [
        {
          "output_type": "execute_result",
          "data": {
            "text/plain": [
              "['startseq nine one five seven one two six four two eight endseq',\n",
              " 'startseq four seven four six zero one four eight four five endseq',\n",
              " 'startseq zero two one one seven nine four zero nine four endseq',\n",
              " 'startseq six eight four six two seven eight seven nine five endseq',\n",
              " 'startseq nine five seven four four six five two six nine endseq',\n",
              " 'startseq one five seven five seven nine four eight one seven endseq',\n",
              " 'startseq seven four seven two seven seven one one five four endseq',\n",
              " 'startseq four six five four six zero seven five two zero endseq',\n",
              " 'startseq six eight six one nine two three nine nine seven endseq',\n",
              " 'startseq seven seven four four two seven eight nine seven zero endseq']"
            ]
          },
          "metadata": {},
          "execution_count": 25
        }
      ]
    },
    {
      "cell_type": "code",
      "source": [
        "all_keys = []\n",
        "for key in mapping:\n",
        "    all_keys.append(key)\n",
        "print(len(all_keys))\n",
        "print(all_keys[:10])"
      ],
      "metadata": {
        "execution": {
          "iopub.status.busy": "2023-09-10T18:17:58.824762Z",
          "iopub.execute_input": "2023-09-10T18:17:58.825269Z",
          "iopub.status.idle": "2023-09-10T18:17:58.833619Z",
          "shell.execute_reply.started": "2023-09-10T18:17:58.825232Z",
          "shell.execute_reply": "2023-09-10T18:17:58.832646Z"
        },
        "trusted": true,
        "colab": {
          "base_uri": "https://localhost:8080/"
        },
        "id": "BdJgm-ct9s04",
        "outputId": "1efd5866-cf06-4b81-a474-865e4b514252"
      },
      "execution_count": 26,
      "outputs": [
        {
          "output_type": "stream",
          "name": "stdout",
          "text": [
            "9999\n",
            "['9157126428', '4746014845', '0211794094', '6846278795', '9574465269', '1575794817', '7472771154', '4654607520', '6861923997', '7744278970']\n"
          ]
        }
      ]
    },
    {
      "cell_type": "code",
      "source": [
        "# tokenize the text\n",
        "tokenizer = Tokenizer()\n",
        "tokenizer.fit_on_texts(all_captions)\n",
        "vocab_size = len(tokenizer.word_index) + 1"
      ],
      "metadata": {
        "execution": {
          "iopub.status.busy": "2023-09-10T09:52:37.055806Z",
          "iopub.execute_input": "2023-09-10T09:52:37.056183Z",
          "iopub.status.idle": "2023-09-10T09:52:37.821838Z",
          "shell.execute_reply.started": "2023-09-10T09:52:37.056048Z",
          "shell.execute_reply": "2023-09-10T09:52:37.820963Z"
        },
        "trusted": true,
        "id": "L3GdTHWb9s04"
      },
      "execution_count": 27,
      "outputs": []
    },
    {
      "cell_type": "code",
      "source": [
        "vocab_size"
      ],
      "metadata": {
        "execution": {
          "iopub.status.busy": "2023-09-10T09:52:37.823083Z",
          "iopub.execute_input": "2023-09-10T09:52:37.823426Z",
          "iopub.status.idle": "2023-09-10T09:52:37.832218Z",
          "shell.execute_reply.started": "2023-09-10T09:52:37.823387Z",
          "shell.execute_reply": "2023-09-10T09:52:37.831409Z"
        },
        "trusted": true,
        "colab": {
          "base_uri": "https://localhost:8080/"
        },
        "id": "48s76ZKY9s05",
        "outputId": "e05f4331-c8d4-4d9b-838c-d0f5baeb2177"
      },
      "execution_count": 28,
      "outputs": [
        {
          "output_type": "execute_result",
          "data": {
            "text/plain": [
              "13"
            ]
          },
          "metadata": {},
          "execution_count": 28
        }
      ]
    },
    {
      "cell_type": "code",
      "source": [
        "# get maximum length of the caption available\n",
        "max_length = max(len(caption.split()) for caption in all_captions)\n",
        "max_length"
      ],
      "metadata": {
        "execution": {
          "iopub.status.busy": "2023-09-10T09:52:37.833681Z",
          "iopub.execute_input": "2023-09-10T09:52:37.834141Z",
          "iopub.status.idle": "2023-09-10T09:52:37.880839Z",
          "shell.execute_reply.started": "2023-09-10T09:52:37.834097Z",
          "shell.execute_reply": "2023-09-10T09:52:37.879995Z"
        },
        "trusted": true,
        "colab": {
          "base_uri": "https://localhost:8080/"
        },
        "id": "CGDwgv0w9s05",
        "outputId": "82f0239a-df06-49d4-fa60-d669740f1612"
      },
      "execution_count": 29,
      "outputs": [
        {
          "output_type": "execute_result",
          "data": {
            "text/plain": [
              "12"
            ]
          },
          "metadata": {},
          "execution_count": 29
        }
      ]
    },
    {
      "cell_type": "code",
      "source": [
        "image_ids = list(mapping.keys())\n",
        "split = int(len(image_ids) * 0.90)\n",
        "train = image_ids[:split]\n",
        "test = image_ids[split:]"
      ],
      "metadata": {
        "execution": {
          "iopub.status.busy": "2023-09-10T09:52:37.882468Z",
          "iopub.execute_input": "2023-09-10T09:52:37.882744Z",
          "iopub.status.idle": "2023-09-10T09:52:37.888598Z",
          "shell.execute_reply.started": "2023-09-10T09:52:37.882706Z",
          "shell.execute_reply": "2023-09-10T09:52:37.887516Z"
        },
        "trusted": true,
        "id": "a4bKMGxs9s05"
      },
      "execution_count": 30,
      "outputs": []
    },
    {
      "cell_type": "code",
      "source": [
        "# create data generator to get data in batch (avoids session crash)\n",
        "def data_generator(data_keys, mapping, features, tokenizer, max_length, vocab_size, batch_size):\n",
        "    # loop over images\n",
        "    X1, X2, y = list(), list(), list()\n",
        "    n = 0\n",
        "    while 1:\n",
        "        for key in data_keys:\n",
        "            n += 1\n",
        "            captions = mapping[key]\n",
        "            # process each caption\n",
        "            for caption in captions:\n",
        "                # encode the sequence\n",
        "                seq = tokenizer.texts_to_sequences([caption])[0]\n",
        "                # split the sequence into X, y pairs\n",
        "                for i in range(1, len(seq)):\n",
        "                    # split into input and output pairs\n",
        "                    in_seq, out_seq = seq[:i], seq[i]\n",
        "                    # pad input sequence\n",
        "                    in_seq = pad_sequences([in_seq], maxlen=max_length)[0]\n",
        "                    # encode output sequence\n",
        "                    out_seq = to_categorical([out_seq], num_classes=vocab_size)[0]\n",
        "\n",
        "                    # store the sequences\n",
        "                    X1.append(features[key][0])\n",
        "                    X2.append(in_seq)\n",
        "                    y.append(out_seq)\n",
        "            if n == batch_size:\n",
        "                X1, X2, y = np.array(X1), np.array(X2), np.array(y)\n",
        "                yield [X1, X2], y\n",
        "                X1, X2, y = list(), list(), list()\n",
        "                n = 0"
      ],
      "metadata": {
        "execution": {
          "iopub.status.busy": "2023-09-10T09:52:37.890373Z",
          "iopub.execute_input": "2023-09-10T09:52:37.890769Z",
          "iopub.status.idle": "2023-09-10T09:52:37.902513Z",
          "shell.execute_reply.started": "2023-09-10T09:52:37.890729Z",
          "shell.execute_reply": "2023-09-10T09:52:37.901566Z"
        },
        "trusted": true,
        "id": "3TTLhHja9s05"
      },
      "execution_count": 31,
      "outputs": []
    },
    {
      "cell_type": "code",
      "source": [
        "# encoder model\n",
        "# image feature layers\n",
        "inputs1 = Input(shape=(4096,))\n",
        "fe1 = Dropout(0.4)(inputs1)\n",
        "fe2 = Dense(256, activation='relu')(fe1)\n",
        "# sequence feature layers\n",
        "inputs2 = Input(shape=(max_length,))\n",
        "se1 = Embedding(vocab_size, 256, mask_zero=True)(inputs2)\n",
        "se2 = Dropout(0.4)(se1)\n",
        "se3 = LSTM(256)(se2)\n",
        "\n",
        "# decoder model\n",
        "decoder1 = add([fe2, se3])\n",
        "decoder2 = Dense(256, activation='relu')(decoder1)\n",
        "outputs = Dense(vocab_size, activation='softmax')(decoder2)\n",
        "\n",
        "model = Model(inputs=[inputs1, inputs2], outputs=outputs)\n",
        "model.compile(loss='categorical_crossentropy', optimizer='adam')\n",
        "\n",
        "# plot the model\n",
        "plot_model(model, show_shapes=True)"
      ],
      "metadata": {
        "execution": {
          "iopub.status.busy": "2023-09-10T09:52:37.904042Z",
          "iopub.execute_input": "2023-09-10T09:52:37.904644Z",
          "iopub.status.idle": "2023-09-10T09:52:40.138646Z",
          "shell.execute_reply.started": "2023-09-10T09:52:37.904603Z",
          "shell.execute_reply": "2023-09-10T09:52:40.136178Z"
        },
        "trusted": true,
        "colab": {
          "base_uri": "https://localhost:8080/",
          "height": 754
        },
        "id": "aJUXVODV9s05",
        "outputId": "df5d0533-4c44-412b-d479-16bdb66025e4"
      },
      "execution_count": 32,
      "outputs": [
        {
          "output_type": "execute_result",
          "data": {
            "image/png": "[encoded data removed]",
            "text/plain": [
              "<IPython.core.display.Image object>"
            ]
          },
          "metadata": {},
          "execution_count": 32
        }
      ]
    },
    {
      "cell_type": "code",
      "source": [
        "# train the model\n",
        "epochs = 100\n",
        "batch_size = 32\n",
        "steps = len(train) // batch_size\n",
        "\n",
        "for i in range(epochs):\n",
        "    # create data generator\n",
        "    generator = data_generator(train, mapping, features, tokenizer, max_length, vocab_size, batch_size)\n",
        "    # fit for one epoch\n",
        "    model.fit(generator, epochs=1, steps_per_epoch=steps, verbose=1)"
      ],
      "metadata": {
        "execution": {
          "iopub.status.busy": "2023-09-10T09:52:40.141037Z",
          "iopub.execute_input": "2023-09-10T09:52:40.141671Z",
          "iopub.status.idle": "2023-09-10T10:10:39.886107Z",
          "shell.execute_reply.started": "2023-09-10T09:52:40.141629Z",
          "shell.execute_reply": "2023-09-10T10:10:39.885219Z"
        },
        "trusted": true,
        "id": "u-ItgrK_9s05",
        "outputId": "731eb60a-0e00-4d09-af7e-5d5a5430adb7",
        "colab": {
          "base_uri": "https://localhost:8080/"
        }
      },
      "execution_count": 34,
      "outputs": [
        {
          "output_type": "stream",
          "name": "stdout",
          "text": [
            "281/281 [==============================] - 17s 62ms/step - loss: 1.8147\n",
            "281/281 [==============================] - 18s 62ms/step - loss: 1.7406\n",
            "281/281 [==============================] - 17s 60ms/step - loss: 1.6823\n",
            "281/281 [==============================] - 19s 67ms/step - loss: 1.6290\n",
            "281/281 [==============================] - 17s 60ms/step - loss: 1.5856\n",
            "281/281 [==============================] - 18s 64ms/step - loss: 1.5451\n",
            "281/281 [==============================] - 17s 60ms/step - loss: 1.5040\n",
            "281/281 [==============================] - 17s 62ms/step - loss: 1.4658\n",
            "281/281 [==============================] - 17s 60ms/step - loss: 1.4272\n",
            "281/281 [==============================] - 18s 64ms/step - loss: 1.3873\n",
            "281/281 [==============================] - 17s 60ms/step - loss: 1.3495\n",
            "281/281 [==============================] - 18s 64ms/step - loss: 1.3118\n",
            "281/281 [==============================] - 17s 62ms/step - loss: 1.2864\n",
            "281/281 [==============================] - 18s 66ms/step - loss: 1.2563\n",
            "281/281 [==============================] - 17s 62ms/step - loss: 1.2273\n",
            "281/281 [==============================] - 18s 64ms/step - loss: 1.2021\n",
            "281/281 [==============================] - 17s 61ms/step - loss: 1.1788\n",
            "281/281 [==============================] - 18s 65ms/step - loss: 1.1589\n",
            "281/281 [==============================] - 18s 62ms/step - loss: 1.1374\n",
            "281/281 [==============================] - 17s 62ms/step - loss: 1.1169\n",
            "281/281 [==============================] - 18s 64ms/step - loss: 1.0968\n",
            "281/281 [==============================] - 18s 63ms/step - loss: 1.0855\n",
            "281/281 [==============================] - 17s 61ms/step - loss: 1.0608\n",
            "281/281 [==============================] - 19s 66ms/step - loss: 1.0477\n",
            "281/281 [==============================] - 18s 64ms/step - loss: 1.0342\n",
            "281/281 [==============================] - 19s 69ms/step - loss: 1.0137\n",
            "281/281 [==============================] - 18s 63ms/step - loss: 1.0009\n",
            "281/281 [==============================] - 19s 66ms/step - loss: 0.9820\n",
            "281/281 [==============================] - 17s 60ms/step - loss: 0.9712\n",
            "281/281 [==============================] - 19s 66ms/step - loss: 0.9681\n",
            "281/281 [==============================] - 17s 61ms/step - loss: 0.9416\n",
            "281/281 [==============================] - 18s 64ms/step - loss: 0.9348\n",
            "281/281 [==============================] - 17s 60ms/step - loss: 0.9250\n",
            "281/281 [==============================] - 18s 65ms/step - loss: 0.9095\n",
            "281/281 [==============================] - 17s 62ms/step - loss: 0.9004\n",
            "281/281 [==============================] - 19s 66ms/step - loss: 0.8920\n",
            "281/281 [==============================] - 17s 61ms/step - loss: 0.8846\n",
            "281/281 [==============================] - 18s 65ms/step - loss: 0.8734\n",
            "281/281 [==============================] - 17s 60ms/step - loss: 0.8582\n",
            "281/281 [==============================] - 17s 61ms/step - loss: 0.8505\n",
            "281/281 [==============================] - 17s 60ms/step - loss: 0.8491\n",
            "281/281 [==============================] - 18s 63ms/step - loss: 0.8386\n",
            "281/281 [==============================] - 17s 60ms/step - loss: 0.8280\n",
            "281/281 [==============================] - 17s 60ms/step - loss: 0.8263\n",
            "281/281 [==============================] - 18s 64ms/step - loss: 0.8136\n",
            "281/281 [==============================] - 17s 60ms/step - loss: 0.8116\n",
            "281/281 [==============================] - 18s 64ms/step - loss: 0.7963\n",
            "281/281 [==============================] - 17s 60ms/step - loss: 0.7907\n",
            "281/281 [==============================] - 17s 60ms/step - loss: 0.7852\n",
            "281/281 [==============================] - 18s 63ms/step - loss: 0.7774\n",
            "281/281 [==============================] - 19s 67ms/step - loss: 0.7688\n",
            "281/281 [==============================] - 19s 67ms/step - loss: 0.7627\n",
            "281/281 [==============================] - 18s 62ms/step - loss: 0.7525\n",
            "281/281 [==============================] - 18s 65ms/step - loss: 0.7507\n",
            "281/281 [==============================] - 17s 61ms/step - loss: 0.7483\n",
            "281/281 [==============================] - 17s 61ms/step - loss: 0.7371\n",
            "281/281 [==============================] - 18s 63ms/step - loss: 0.7264\n",
            "281/281 [==============================] - 18s 65ms/step - loss: 0.7191\n",
            "281/281 [==============================] - 17s 61ms/step - loss: 0.7260\n",
            "281/281 [==============================] - 18s 65ms/step - loss: 0.7117\n",
            "281/281 [==============================] - 17s 61ms/step - loss: 0.6997\n",
            "281/281 [==============================] - 18s 65ms/step - loss: 0.6924\n",
            "281/281 [==============================] - 17s 61ms/step - loss: 0.6883\n",
            "281/281 [==============================] - 18s 64ms/step - loss: 0.6821\n",
            "281/281 [==============================] - 17s 61ms/step - loss: 0.6753\n",
            "281/281 [==============================] - 17s 62ms/step - loss: 0.6787\n",
            "281/281 [==============================] - 18s 64ms/step - loss: 0.6711\n",
            "281/281 [==============================] - 17s 61ms/step - loss: 0.6585\n",
            "281/281 [==============================] - 18s 65ms/step - loss: 0.6573\n",
            "281/281 [==============================] - 17s 62ms/step - loss: 0.6595\n",
            "281/281 [==============================] - 18s 64ms/step - loss: 0.6461\n",
            "281/281 [==============================] - 18s 64ms/step - loss: 0.6431\n",
            "281/281 [==============================] - 18s 65ms/step - loss: 0.6359\n",
            "281/281 [==============================] - 18s 65ms/step - loss: 0.6361\n",
            "281/281 [==============================] - 18s 63ms/step - loss: 0.6310\n",
            "281/281 [==============================] - 19s 69ms/step - loss: 0.6363\n",
            "281/281 [==============================] - 18s 63ms/step - loss: 0.6161\n",
            "281/281 [==============================] - 17s 62ms/step - loss: 0.6238\n",
            "281/281 [==============================] - 18s 65ms/step - loss: 0.6188\n",
            "281/281 [==============================] - 17s 62ms/step - loss: 0.6103\n",
            "281/281 [==============================] - 18s 64ms/step - loss: 0.6065\n",
            "281/281 [==============================] - 18s 62ms/step - loss: 0.6010\n",
            "281/281 [==============================] - 18s 65ms/step - loss: 0.6023\n",
            "281/281 [==============================] - 19s 68ms/step - loss: 0.6006\n",
            "281/281 [==============================] - 18s 63ms/step - loss: 0.5935\n",
            "281/281 [==============================] - 18s 63ms/step - loss: 0.5918\n",
            "281/281 [==============================] - 18s 63ms/step - loss: 0.5844\n",
            "281/281 [==============================] - 19s 67ms/step - loss: 0.5844\n",
            "281/281 [==============================] - 18s 63ms/step - loss: 0.5809\n",
            "281/281 [==============================] - 18s 66ms/step - loss: 0.5802\n",
            "281/281 [==============================] - 18s 62ms/step - loss: 0.5719\n",
            "281/281 [==============================] - 18s 63ms/step - loss: 0.5641\n",
            "281/281 [==============================] - 19s 67ms/step - loss: 0.5683\n",
            "281/281 [==============================] - 18s 62ms/step - loss: 0.5683\n",
            "281/281 [==============================] - 19s 67ms/step - loss: 0.5593\n",
            "281/281 [==============================] - 18s 64ms/step - loss: 0.5552\n",
            "281/281 [==============================] - 18s 62ms/step - loss: 0.5524\n",
            "281/281 [==============================] - 18s 64ms/step - loss: 0.5492\n",
            "281/281 [==============================] - 18s 63ms/step - loss: 0.5510\n",
            "281/281 [==============================] - 19s 67ms/step - loss: 0.5528\n"
          ]
        }
      ]
    },
    {
      "cell_type": "code",
      "source": [
        "# save the model\n",
        "model.save(WORKING_DIR+'/best_model.h5')"
      ],
      "metadata": {
        "execution": {
          "iopub.status.busy": "2023-09-10T10:10:39.887825Z",
          "iopub.execute_input": "2023-09-10T10:10:39.889253Z",
          "iopub.status.idle": "2023-09-10T10:10:40.052100Z",
          "shell.execute_reply.started": "2023-09-10T10:10:39.889210Z",
          "shell.execute_reply": "2023-09-10T10:10:40.051279Z"
        },
        "trusted": true,
        "id": "yNMroPc_9s06",
        "outputId": "ac7c8b05-3e56-43c5-e726-d8c0a3d3fb77",
        "colab": {
          "base_uri": "https://localhost:8080/"
        }
      },
      "execution_count": 35,
      "outputs": [
        {
          "output_type": "stream",
          "name": "stderr",
          "text": [
            "/usr/local/lib/python3.10/dist-packages/keras/src/engine/training.py:3000: UserWarning: You are saving your model as an HDF5 file via `model.save()`. This file format is considered legacy. We recommend using instead the native Keras format, e.g. `model.save('my_model.keras')`.\n",
            "  saving_api.save_model(\n"
          ]
        }
      ]
    },
    {
      "cell_type": "code",
      "source": [
        "def idx_to_word(integer, tokenizer):\n",
        "    for word, index in tokenizer.word_index.items():\n",
        "        if index == integer:\n",
        "            return word\n",
        "    return None"
      ],
      "metadata": {
        "execution": {
          "iopub.status.busy": "2023-09-10T10:10:40.053346Z",
          "iopub.execute_input": "2023-09-10T10:10:40.054235Z",
          "iopub.status.idle": "2023-09-10T10:10:40.059713Z",
          "shell.execute_reply.started": "2023-09-10T10:10:40.054194Z",
          "shell.execute_reply": "2023-09-10T10:10:40.058830Z"
        },
        "trusted": true,
        "id": "SkgDthVB9s06"
      },
      "execution_count": 36,
      "outputs": []
    },
    {
      "cell_type": "code",
      "source": [
        "# generate caption for an image\n",
        "def predict_caption(model, image, tokenizer, max_length):\n",
        "    # add start tag for generation process\n",
        "    in_text = 'startseq'\n",
        "    # iterate over the max length of sequence\n",
        "    for i in range(max_length):\n",
        "        # encode input sequence\n",
        "        sequence = tokenizer.texts_to_sequences([in_text])[0]\n",
        "        # pad the sequence\n",
        "        sequence = pad_sequences([sequence], max_length)\n",
        "        # predict next word\n",
        "        yhat = model.predict([image, sequence], verbose=0)\n",
        "        # get index with high probability\n",
        "        yhat = np.argmax(yhat)\n",
        "        # convert index to word\n",
        "        word = idx_to_word(yhat, tokenizer)\n",
        "        # stop if word not found\n",
        "        if word is None:\n",
        "            break\n",
        "        # append word as input for generating next word\n",
        "        in_text += \" \" + word\n",
        "        # stop if we reach end tag\n",
        "        if word == 'endseq':\n",
        "            break\n",
        "\n",
        "    return in_text"
      ],
      "metadata": {
        "execution": {
          "iopub.status.busy": "2023-09-10T10:10:40.061239Z",
          "iopub.execute_input": "2023-09-10T10:10:40.061784Z",
          "iopub.status.idle": "2023-09-10T10:10:40.075790Z",
          "shell.execute_reply.started": "2023-09-10T10:10:40.061744Z",
          "shell.execute_reply": "2023-09-10T10:10:40.074909Z"
        },
        "trusted": true,
        "id": "-1LGnQrD9s06"
      },
      "execution_count": 37,
      "outputs": []
    },
    {
      "cell_type": "code",
      "source": [
        "from nltk.translate.bleu_score import corpus_bleu\n",
        "# validate with test data\n",
        "actual, predicted = list(), list()\n",
        "\n",
        "for key in tqdm(test):\n",
        "    # get actual caption\n",
        "    captions = mapping[key]\n",
        "    # predict the caption for image\n",
        "    y_pred = predict_caption(model, features[key], tokenizer, max_length)\n",
        "    # split into words\n",
        "    actual_captions = [caption.split() for caption in captions]\n",
        "    y_pred = y_pred.split()\n",
        "    # append to the list\n",
        "    actual.append(actual_captions)\n",
        "    predicted.append(y_pred)\n",
        "\n",
        "# calcuate BLEU score\n",
        "print(\"BLEU-1: %f\" % corpus_bleu(actual, predicted, weights=(1.0, 0, 0, 0)))\n",
        "print(\"BLEU-2: %f\" % corpus_bleu(actual, predicted, weights=(0.5, 0.5, 0, 0)))"
      ],
      "metadata": {
        "execution": {
          "iopub.status.busy": "2023-09-10T10:10:40.077292Z",
          "iopub.execute_input": "2023-09-10T10:10:40.077587Z",
          "iopub.status.idle": "2023-09-10T10:17:07.796239Z",
          "shell.execute_reply.started": "2023-09-10T10:10:40.077551Z",
          "shell.execute_reply": "2023-09-10T10:17:07.795317Z"
        },
        "trusted": true,
        "colab": {
          "referenced_widgets": [
            "3dc37eb637d3427b97d3262e6f6a32f0",
            "97c9373f786f4230a5b8b299174bc897",
            "630ff00ba992426ea5eec5162313dce2",
            "b75bddb840d54f3fa96b34fb8c4a10d9",
            "fc15db45d3d24889a050a7b121f64b34",
            "76c3f8b6eff04dd1991dfb7e6b4faadd",
            "1e2af45c724d4a0d8f17f75374a2c0f9",
            "077022d74319424c9d59ff3b2d4fdabf",
            "7cdb9f89d9f84b26b06c48ce40e05dc9",
            "99ec176bddeb40f9a00130bb28d93a85",
            "d212dac8e6ee492cbfc284e2c0330c91"
          ],
          "base_uri": "https://localhost:8080/",
          "height": 84
        },
        "id": "VMBKcSh-9s06",
        "outputId": "8270f6b3-3c09-4377-cb33-0ee99120eaed"
      },
      "execution_count": 38,
      "outputs": [
        {
          "output_type": "display_data",
          "data": {
            "text/plain": [
              "  0%|          | 0/1000 [00:00<?, ?it/s]"
            ],
            "application/vnd.jupyter.widget-view+json": {
              "version_major": 2,
              "version_minor": 0,
              "model_id": "3dc37eb637d3427b97d3262e6f6a32f0"
            }
          },
          "metadata": {}
        },
        {
          "output_type": "stream",
          "name": "stdout",
          "text": [
            "BLEU-1: 0.792750\n",
            "BLEU-2: 0.560038\n"
          ]
        }
      ]
    },
    {
      "cell_type": "code",
      "source": [
        "from PIL import Image\n",
        "import matplotlib.pyplot as plt\n",
        "def generate_caption(image_name):\n",
        "    # load the image\n",
        "    image_id = image_name.split('.')[0]\n",
        "    img_path = os.path.join(BASE_DIR, \"concatenated_images\", image_name)\n",
        "    image = Image.open(img_path)\n",
        "    captions = mapping[image_id]\n",
        "    print('---------------------Actual---------------------')\n",
        "    for caption in captions:\n",
        "        print(caption)\n",
        "    # predict the caption\n",
        "    y_pred = predict_caption(model, features[image_id], tokenizer, max_length)\n",
        "    print('--------------------Predicted--------------------')\n",
        "    print(y_pred)\n",
        "    plt.imshow(image)"
      ],
      "metadata": {
        "execution": {
          "iopub.status.busy": "2023-09-10T10:17:07.797880Z",
          "iopub.execute_input": "2023-09-10T10:17:07.798393Z",
          "iopub.status.idle": "2023-09-10T10:17:07.806613Z",
          "shell.execute_reply.started": "2023-09-10T10:17:07.798349Z",
          "shell.execute_reply": "2023-09-10T10:17:07.805644Z"
        },
        "trusted": true,
        "id": "cwNkTg9P9s06"
      },
      "execution_count": 39,
      "outputs": []
    },
    {
      "cell_type": "code",
      "source": [
        "generate_caption(\"0000719768.png\")"
      ],
      "metadata": {
        "execution": {
          "iopub.status.busy": "2023-09-10T10:17:07.808226Z",
          "iopub.execute_input": "2023-09-10T10:17:07.808738Z",
          "iopub.status.idle": "2023-09-10T10:17:08.813358Z",
          "shell.execute_reply.started": "2023-09-10T10:17:07.808678Z",
          "shell.execute_reply": "2023-09-10T10:17:08.812575Z"
        },
        "trusted": true,
        "id": "L5yKnF4D9s06",
        "outputId": "061e4f38-ac50-40bb-a5d6-83ec060dd60f",
        "colab": {
          "base_uri": "https://localhost:8080/",
          "height": 183
        }
      },
      "execution_count": 41,
      "outputs": [
        {
          "output_type": "stream",
          "name": "stdout",
          "text": [
            "---------------------Actual---------------------\n",
            "startseq zero zero zero zero seven one nine seven six eight endseq\n",
            "--------------------Predicted--------------------\n",
            "startseq zero zero zero zero seven one nine seven six eight endseq\n"
          ]
        },
        {
          "output_type": "display_data",
          "data": {
            "text/plain": [
              "<Figure size 640x480 with 1 Axes>"
            ],
            "image/png": "[encoded data removed]"
          },
          "metadata": {}
        }
      ]
    },
    {
      "cell_type": "code",
      "source": [
        "# load vgg19 model\n",
        "feature_model = VGG19()\n",
        "# restructure the model\n",
        "feature_model = Model(inputs=feature_model.inputs, outputs=feature_model.layers[-2].output)"
      ],
      "metadata": {
        "id": "t-iroHTQpz-r"
      },
      "execution_count": null,
      "outputs": []
    },
    {
      "cell_type": "code",
      "source": [
        "from PIL import Image\n",
        "import matplotlib.pyplot as plt\n",
        "feat={}\n",
        "def generate_caption_for_image(image_path):\n",
        "    # load the image\n",
        "    image_name = image_path.split('/')[-1]\n",
        "    image_id=image_name.split('.')[0]\n",
        "    image = load_img(image_path, target_size=(224, 224))\n",
        "    image = img_to_array(image)\n",
        "    image = image.reshape((1, image.shape[0], image.shape[1], image.shape[2]))\n",
        "    image = preprocess_input(image)\n",
        "    feature = feature_model.predict(image, verbose=0)\n",
        "    feat[image_id] = feature\n",
        "    # # predict the caption\n",
        "    y_pred = predict_caption(model, feat[image_id], tokenizer, max_length)\n",
        "    print('--------------------Predicted--------------------')\n",
        "    print(y_pred,'\\n')\n",
        "    original_img = Image.open(image_path)\n",
        "    plt.imshow(original_img)"
      ],
      "metadata": {
        "id": "OhLG8V419s06"
      },
      "execution_count": null,
      "outputs": []
    },
    {
      "cell_type": "code",
      "source": [
        "generate_caption_for_image(\"/content/0139467888.jpg\")"
      ],
      "metadata": {
        "id": "JVz7jag0lXDN"
      },
      "execution_count": null,
      "outputs": []
    },
    {
      "cell_type": "code",
      "source": [],
      "metadata": {
        "id": "Pcqpl4rzmrmW"
      },
      "execution_count": null,
      "outputs": []
    }
  ]
}